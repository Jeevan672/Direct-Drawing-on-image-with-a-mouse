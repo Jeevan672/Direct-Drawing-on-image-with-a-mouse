{
 "cells": [
  {
   "cell_type": "code",
   "execution_count": null,
   "id": "39436300",
   "metadata": {},
   "outputs": [],
   "source": [
    "import cv2\n",
    "import numpy as np\n",
    "\n",
    "## variables##\n",
    "\n",
    "\n",
    "# True while mouse button down.False while mouse button up\n",
    "drawing=False\n",
    "ix,iy=-1,-1\n",
    "\n",
    "##Function\n",
    "def draw_rectangle(event,x,y,flags,params):\n",
    "    \n",
    "    global ix,iy,drawing\n",
    "    \n",
    "    if event == cv2.EVENT_LBUTTONDOWN:\n",
    "        \n",
    "        drawing =True\n",
    "        ix,iy = x,y\n",
    "        \n",
    "    elif event == cv2.EVENT_MOUSEMOVE:\n",
    "        if drawing == True:\n",
    "            cv2.rectangle(img,(ix,iy),(x,y),(0,255,0),-1)\n",
    "    elif event == cv2.EVENT_LBUTTONUP:\n",
    "        drawing= False\n",
    "        cv2.rectangle(img,(ix,iy),(x,y),(0,255,0),-1)\n",
    "\n",
    "\n",
    "##Showing the image\n",
    "\n",
    "#BLACK\n",
    "\n",
    "img=np.zeros((720,720,3))\n",
    "\n",
    "cv2.namedWindow(winname='my_drawing')\n",
    "\n",
    "cv2.setMouseCallback('my_drawing',draw_rectangle)\n",
    "\n",
    "\n",
    "while True:\n",
    "    \n",
    "    cv2.imshow('my_drawing',img)\n",
    "    \n",
    "    \n",
    "    if cv2.waitKey(1) & 0xFF == 27:\n",
    "        break\n",
    "\n",
    "cv2.destroyAllWindows()\n",
    "    "
   ]
  },
  {
   "cell_type": "code",
   "execution_count": null,
   "id": "dddc9d80",
   "metadata": {},
   "outputs": [],
   "source": []
  }
 ],
 "metadata": {
  "kernelspec": {
   "display_name": "Python 3 (ipykernel)",
   "language": "python",
   "name": "python3"
  },
  "language_info": {
   "codemirror_mode": {
    "name": "ipython",
    "version": 3
   },
   "file_extension": ".py",
   "mimetype": "text/x-python",
   "name": "python",
   "nbconvert_exporter": "python",
   "pygments_lexer": "ipython3",
   "version": "3.11.3"
  }
 },
 "nbformat": 4,
 "nbformat_minor": 5
}
